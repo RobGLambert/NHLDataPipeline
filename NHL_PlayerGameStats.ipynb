{
 "cells": [
  {
   "cell_type": "code",
   "execution_count": null,
   "metadata": {
    "id": "TBZCjqNjVEGg"
   },
   "outputs": [],
   "source": [
    "import pandas as pd\n",
    "import requests\n",
    "import sqlalchemy\n",
    "import psycopg2"
   ]
  },
  {
   "cell_type": "code",
   "execution_count": null,
   "metadata": {
    "id": "9PCpfILoVYGz"
   },
   "outputs": [],
   "source": [
    "GAMEID = 2023020009\n",
    "\n",
    "url = f\"https://api-web.nhle.com/v1/gamecenter/{GAMEID}/play-by-play\" # Public API for NHL.com\n",
    "response = requests.get(url)\n",
    "data = response.json()"
   ]
  },
  {
   "cell_type": "code",
   "execution_count": null,
   "metadata": {
    "colab": {
     "base_uri": "https://localhost:8080/"
    },
    "executionInfo": {
     "elapsed": 385,
     "status": "ok",
     "timestamp": 1730827910123,
     "user": {
      "displayName": "Robert Burry",
      "userId": "13858463616713759226"
     },
     "user_tz": 240
    },
    "id": "l830VKBAYFXt",
    "outputId": "6a6c9b53-edb7-4790-bdf5-06aebd7dd988"
   },
   "outputs": [
    {
     "data": {
      "text/plain": [
       "dict_keys(['id', 'season', 'gameType', 'limitedScoring', 'gameDate', 'venue', 'venueLocation', 'startTimeUTC', 'easternUTCOffset', 'venueUTCOffset', 'tvBroadcasts', 'gameState', 'gameScheduleState', 'periodDescriptor', 'awayTeam', 'homeTeam', 'shootoutInUse', 'otInUse', 'clock', 'displayPeriod', 'maxPeriods', 'gameOutcome', 'plays', 'rosterSpots', 'regPeriods', 'summary'])"
      ]
     },
     "execution_count": 9,
     "metadata": {},
     "output_type": "execute_result"
    }
   ],
   "source": [
    "data.keys()"
   ]
  },
  {
   "cell_type": "code",
   "execution_count": null,
   "metadata": {
    "colab": {
     "base_uri": "https://localhost:8080/"
    },
    "executionInfo": {
     "elapsed": 338,
     "status": "ok",
     "timestamp": 1730827956141,
     "user": {
      "displayName": "Robert Burry",
      "userId": "13858463616713759226"
     },
     "user_tz": 240
    },
    "id": "90N7uSONYGJY",
    "outputId": "2a081ebc-8c39-4241-c7a5-ee1a60e52900"
   },
   "outputs": [
    {
     "data": {
      "text/plain": [
       "[{'id': 282,\n",
       "  'market': 'N',\n",
       "  'countryCode': 'CA',\n",
       "  'network': 'SN',\n",
       "  'sequenceNumber': 21},\n",
       " {'id': 284,\n",
       "  'market': 'N',\n",
       "  'countryCode': 'CA',\n",
       "  'network': 'SN1',\n",
       "  'sequenceNumber': 102}]"
      ]
     },
     "execution_count": 10,
     "metadata": {},
     "output_type": "execute_result"
    }
   ],
   "source": [
    "data.pop('tvBroadcasts')"
   ]
  },
  {
   "cell_type": "code",
   "execution_count": null,
   "metadata": {
    "id": "EFYoM6a3Ysc2"
   },
   "outputs": [],
   "source": []
  }
 ],
 "metadata": {
  "colab": {
   "provenance": []
  },
  "kernelspec": {
   "display_name": "Python 3",
   "name": "python3"
  },
  "language_info": {
   "name": "python"
  }
 },
 "nbformat": 4,
 "nbformat_minor": 0
}
